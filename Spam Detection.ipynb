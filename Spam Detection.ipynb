{
 "cells": [
  {
   "attachments": {},
   "cell_type": "markdown",
   "id": "65a03438",
   "metadata": {},
   "source": [
    "I build two models to detect spam messages, based on the email characteristic. One model has best accuracy, while the other is a cost sensitive model to minimize misclassification cost. \n",
    "\n",
    "I built the models using five techniques, decision tree, logistic regression, k-nearest neighbors, support vector machine and light GBM. I first used nested grid search cv to find the best model, then conducted hyper-parameter tuning to find the best outcome of the model. "
   ]
  },
  {
   "cell_type": "markdown",
   "id": "ce2c62bd",
   "metadata": {},
   "source": [
    "# Import packages and files"
   ]
  },
  {
   "cell_type": "code",
   "execution_count": 44,
   "id": "03c6e643",
   "metadata": {},
   "outputs": [],
   "source": [
    "#Import packages\n",
    "import pandas as pd\n",
    "import numpy as np\n",
    "import matplotlib.pyplot as plt\n",
    "import seaborn as sns\n",
    "from sklearn.model_selection import train_test_split\n",
    "from sklearn.model_selection import GridSearchCV\n",
    "from sklearn.model_selection import cross_val_score\n",
    "from sklearn.model_selection import KFold\n",
    "from sklearn.metrics import classification_report\n",
    "from sklearn.metrics import accuracy_score\n",
    "from sklearn.metrics import roc_curve, auc, confusion_matrix, make_scorer\n",
    "from sklearn import tree\n",
    "from sklearn import linear_model\n",
    "from sklearn import neighbors, datasets\n",
    "from sklearn.svm import SVC\n",
    "from lightgbm import LGBMClassifier\n",
    "from sklearn.preprocessing import scale\n",
    "from sklearn.preprocessing import MinMaxScaler\n",
    "import scikitplot as skplt"
   ]
  },
  {
   "cell_type": "code",
   "execution_count": 2,
   "id": "34a0d377",
   "metadata": {},
   "outputs": [],
   "source": [
    "import warnings\n",
    "warnings.filterwarnings('ignore')"
   ]
  },
  {
   "cell_type": "code",
   "execution_count": 3,
   "id": "97680751",
   "metadata": {},
   "outputs": [],
   "source": [
    "#Import data\n",
    "\n",
    "names= ['wf_make','wf_address','wf_all','wf_3d','wf_our','wf_over','wf_remove','wf_internet','wf_order','wf_mail',\n",
    "              'wf_receive','wf_will','wf_people','wf_report','wf_addresses','wf_free','wf_business','wf_email','wf_you',\n",
    "              'wf_credit','wf_your','wf_font','wf_000','wf_money','wf_hp','wf_hpl','wf_george','wf_650','wf_lab','wf_labs',\n",
    "             'wf_telnet','wf_857','wf_data','wf_415','wf_85','wf_technology','wf_1999','wf_parts','wf_pm','wf_direct',\n",
    "              'wf_cs','wf_meeting','wf_original','wf_project','wf_re','wf_edu','wf_table','wf_conference','wf_;','wf_(',\n",
    "             'wf_[','wf_!','wf_$','wf_#','crl_average','crl_longest','crl_total','prediction']\n",
    "df = pd.read_csv('spambase.data', names=names)"
   ]
  },
  {
   "cell_type": "code",
   "execution_count": 4,
   "id": "402e69f7",
   "metadata": {},
   "outputs": [
    {
     "data": {
      "text/html": [
       "<div>\n",
       "<style scoped>\n",
       "    .dataframe tbody tr th:only-of-type {\n",
       "        vertical-align: middle;\n",
       "    }\n",
       "\n",
       "    .dataframe tbody tr th {\n",
       "        vertical-align: top;\n",
       "    }\n",
       "\n",
       "    .dataframe thead th {\n",
       "        text-align: right;\n",
       "    }\n",
       "</style>\n",
       "<table border=\"1\" class=\"dataframe\">\n",
       "  <thead>\n",
       "    <tr style=\"text-align: right;\">\n",
       "      <th></th>\n",
       "      <th>wf_make</th>\n",
       "      <th>wf_address</th>\n",
       "      <th>wf_all</th>\n",
       "      <th>wf_3d</th>\n",
       "      <th>wf_our</th>\n",
       "      <th>wf_over</th>\n",
       "      <th>wf_remove</th>\n",
       "      <th>wf_internet</th>\n",
       "      <th>wf_order</th>\n",
       "      <th>wf_mail</th>\n",
       "      <th>...</th>\n",
       "      <th>wf_;</th>\n",
       "      <th>wf_(</th>\n",
       "      <th>wf_[</th>\n",
       "      <th>wf_!</th>\n",
       "      <th>wf_$</th>\n",
       "      <th>wf_#</th>\n",
       "      <th>crl_average</th>\n",
       "      <th>crl_longest</th>\n",
       "      <th>crl_total</th>\n",
       "      <th>prediction</th>\n",
       "    </tr>\n",
       "  </thead>\n",
       "  <tbody>\n",
       "    <tr>\n",
       "      <th>0</th>\n",
       "      <td>0.00</td>\n",
       "      <td>0.64</td>\n",
       "      <td>0.64</td>\n",
       "      <td>0.0</td>\n",
       "      <td>0.32</td>\n",
       "      <td>0.00</td>\n",
       "      <td>0.00</td>\n",
       "      <td>0.00</td>\n",
       "      <td>0.00</td>\n",
       "      <td>0.00</td>\n",
       "      <td>...</td>\n",
       "      <td>0.00</td>\n",
       "      <td>0.000</td>\n",
       "      <td>0.0</td>\n",
       "      <td>0.778</td>\n",
       "      <td>0.000</td>\n",
       "      <td>0.000</td>\n",
       "      <td>3.756</td>\n",
       "      <td>61</td>\n",
       "      <td>278</td>\n",
       "      <td>1</td>\n",
       "    </tr>\n",
       "    <tr>\n",
       "      <th>1</th>\n",
       "      <td>0.21</td>\n",
       "      <td>0.28</td>\n",
       "      <td>0.50</td>\n",
       "      <td>0.0</td>\n",
       "      <td>0.14</td>\n",
       "      <td>0.28</td>\n",
       "      <td>0.21</td>\n",
       "      <td>0.07</td>\n",
       "      <td>0.00</td>\n",
       "      <td>0.94</td>\n",
       "      <td>...</td>\n",
       "      <td>0.00</td>\n",
       "      <td>0.132</td>\n",
       "      <td>0.0</td>\n",
       "      <td>0.372</td>\n",
       "      <td>0.180</td>\n",
       "      <td>0.048</td>\n",
       "      <td>5.114</td>\n",
       "      <td>101</td>\n",
       "      <td>1028</td>\n",
       "      <td>1</td>\n",
       "    </tr>\n",
       "    <tr>\n",
       "      <th>2</th>\n",
       "      <td>0.06</td>\n",
       "      <td>0.00</td>\n",
       "      <td>0.71</td>\n",
       "      <td>0.0</td>\n",
       "      <td>1.23</td>\n",
       "      <td>0.19</td>\n",
       "      <td>0.19</td>\n",
       "      <td>0.12</td>\n",
       "      <td>0.64</td>\n",
       "      <td>0.25</td>\n",
       "      <td>...</td>\n",
       "      <td>0.01</td>\n",
       "      <td>0.143</td>\n",
       "      <td>0.0</td>\n",
       "      <td>0.276</td>\n",
       "      <td>0.184</td>\n",
       "      <td>0.010</td>\n",
       "      <td>9.821</td>\n",
       "      <td>485</td>\n",
       "      <td>2259</td>\n",
       "      <td>1</td>\n",
       "    </tr>\n",
       "    <tr>\n",
       "      <th>3</th>\n",
       "      <td>0.00</td>\n",
       "      <td>0.00</td>\n",
       "      <td>0.00</td>\n",
       "      <td>0.0</td>\n",
       "      <td>0.63</td>\n",
       "      <td>0.00</td>\n",
       "      <td>0.31</td>\n",
       "      <td>0.63</td>\n",
       "      <td>0.31</td>\n",
       "      <td>0.63</td>\n",
       "      <td>...</td>\n",
       "      <td>0.00</td>\n",
       "      <td>0.137</td>\n",
       "      <td>0.0</td>\n",
       "      <td>0.137</td>\n",
       "      <td>0.000</td>\n",
       "      <td>0.000</td>\n",
       "      <td>3.537</td>\n",
       "      <td>40</td>\n",
       "      <td>191</td>\n",
       "      <td>1</td>\n",
       "    </tr>\n",
       "    <tr>\n",
       "      <th>4</th>\n",
       "      <td>0.00</td>\n",
       "      <td>0.00</td>\n",
       "      <td>0.00</td>\n",
       "      <td>0.0</td>\n",
       "      <td>0.63</td>\n",
       "      <td>0.00</td>\n",
       "      <td>0.31</td>\n",
       "      <td>0.63</td>\n",
       "      <td>0.31</td>\n",
       "      <td>0.63</td>\n",
       "      <td>...</td>\n",
       "      <td>0.00</td>\n",
       "      <td>0.135</td>\n",
       "      <td>0.0</td>\n",
       "      <td>0.135</td>\n",
       "      <td>0.000</td>\n",
       "      <td>0.000</td>\n",
       "      <td>3.537</td>\n",
       "      <td>40</td>\n",
       "      <td>191</td>\n",
       "      <td>1</td>\n",
       "    </tr>\n",
       "  </tbody>\n",
       "</table>\n",
       "<p>5 rows × 58 columns</p>\n",
       "</div>"
      ],
      "text/plain": [
       "   wf_make  wf_address  wf_all  wf_3d  wf_our  wf_over  wf_remove  \\\n",
       "0     0.00        0.64    0.64    0.0    0.32     0.00       0.00   \n",
       "1     0.21        0.28    0.50    0.0    0.14     0.28       0.21   \n",
       "2     0.06        0.00    0.71    0.0    1.23     0.19       0.19   \n",
       "3     0.00        0.00    0.00    0.0    0.63     0.00       0.31   \n",
       "4     0.00        0.00    0.00    0.0    0.63     0.00       0.31   \n",
       "\n",
       "   wf_internet  wf_order  wf_mail  ...  wf_;   wf_(  wf_[   wf_!   wf_$  \\\n",
       "0         0.00      0.00     0.00  ...  0.00  0.000   0.0  0.778  0.000   \n",
       "1         0.07      0.00     0.94  ...  0.00  0.132   0.0  0.372  0.180   \n",
       "2         0.12      0.64     0.25  ...  0.01  0.143   0.0  0.276  0.184   \n",
       "3         0.63      0.31     0.63  ...  0.00  0.137   0.0  0.137  0.000   \n",
       "4         0.63      0.31     0.63  ...  0.00  0.135   0.0  0.135  0.000   \n",
       "\n",
       "    wf_#  crl_average  crl_longest  crl_total  prediction  \n",
       "0  0.000        3.756           61        278           1  \n",
       "1  0.048        5.114          101       1028           1  \n",
       "2  0.010        9.821          485       2259           1  \n",
       "3  0.000        3.537           40        191           1  \n",
       "4  0.000        3.537           40        191           1  \n",
       "\n",
       "[5 rows x 58 columns]"
      ]
     },
     "execution_count": 4,
     "metadata": {},
     "output_type": "execute_result"
    }
   ],
   "source": [
    "df.head()"
   ]
  },
  {
   "cell_type": "code",
   "execution_count": 5,
   "id": "51ca7cdd",
   "metadata": {},
   "outputs": [],
   "source": [
    "df['prediction'] = df['prediction'].astype('category')"
   ]
  },
  {
   "cell_type": "code",
   "execution_count": 6,
   "id": "b4097868",
   "metadata": {},
   "outputs": [
    {
     "name": "stdout",
     "output_type": "stream",
     "text": [
      "The dimensions of the data set are 4601 by 57\n"
     ]
    }
   ],
   "source": [
    "#Shape of dataframe\n",
    "n_row, n_features = df.shape\n",
    "print ('The dimensions of the data set are', n_row, 'by', (n_features-1))"
   ]
  },
  {
   "cell_type": "code",
   "execution_count": 7,
   "id": "d8cdd676",
   "metadata": {},
   "outputs": [
    {
     "name": "stdout",
     "output_type": "stream",
     "text": [
      "Total number of spams are 4601 , 1813 spam and 2788 non-spam\n"
     ]
    }
   ],
   "source": [
    "#How much different are the target variable\n",
    "print (\"Total number of spams are\", str(df.shape[0]), \",\", df['prediction'].value_counts()[1], \"spam and\",df['prediction'].value_counts()[0], \"non-spam\"\n",
    ")"
   ]
  },
  {
   "cell_type": "code",
   "execution_count": 8,
   "id": "c9644d0d",
   "metadata": {},
   "outputs": [
    {
     "data": {
      "text/plain": [
       "Series([], dtype: float64)"
      ]
     },
     "execution_count": 8,
     "metadata": {},
     "output_type": "execute_result"
    }
   ],
   "source": [
    "# Check for missing data\n",
    "cols_with_missing = [col for col in df.columns if df[col].isnull().any()]\n",
    "miss_count = df.isna().sum()\n",
    "miss_count.div(len(df))[cols_with_missing]"
   ]
  },
  {
   "cell_type": "markdown",
   "id": "a8e247e7",
   "metadata": {},
   "source": [
    "# Data pre-processing"
   ]
  },
  {
   "cell_type": "code",
   "execution_count": 9,
   "id": "183820e6",
   "metadata": {},
   "outputs": [],
   "source": [
    "X = df.drop(labels=['prediction'],axis=1)\n",
    "Y = df['prediction']"
   ]
  },
  {
   "cell_type": "code",
   "execution_count": 10,
   "id": "573488cd",
   "metadata": {},
   "outputs": [],
   "source": [
    "from sklearn.preprocessing import StandardScaler\n",
    "scaler = StandardScaler()\n",
    "X_scaled = scaler.fit_transform(X)\n",
    "X_scaled = pd.DataFrame(X_scaled, columns=X.columns)"
   ]
  },
  {
   "cell_type": "markdown",
   "id": "c5d7d4f9",
   "metadata": {},
   "source": [
    "# Model Selection"
   ]
  },
  {
   "cell_type": "code",
   "execution_count": 11,
   "id": "d4f72f3f",
   "metadata": {},
   "outputs": [],
   "source": [
    "#create a dictionary to save the result\n",
    "accuracy_scores = {'tree':{},'knn':{},'logistic':{},'svm':{},'LGBM':{}}"
   ]
  },
  {
   "cell_type": "code",
   "execution_count": 12,
   "id": "272391b8",
   "metadata": {},
   "outputs": [],
   "source": [
    "#Define inner and outer cross validation\n",
    "inner_cv=KFold(n_splits=5, shuffle=True, random_state=42)\n",
    "outer_cv=KFold(n_splits=5, shuffle=True, random_state=42)"
   ]
  },
  {
   "cell_type": "code",
   "execution_count": 13,
   "id": "09cd5ba6",
   "metadata": {},
   "outputs": [],
   "source": [
    "#Decision Tree\n",
    "tree_grid = {'max_depth':list(range(2,10)), 'criterion': [\"entropy\", \"gini\"], 'min_samples_split':list(range(2,10))}\n",
    "\n",
    "tree = tree.DecisionTreeClassifier(random_state=42)\n",
    "tree_clf=GridSearchCV(estimator=tree, param_grid=tree_grid, cv = inner_cv, scoring = 'accuracy')\n",
    "\n",
    "#Nested CV with parameter opitimization\n",
    "tree_score=cross_val_score(tree_clf,X=X,y=Y, cv=outer_cv)\n",
    "accuracy_scores['tree']=tree_score.mean()"
   ]
  },
  {
   "cell_type": "code",
   "execution_count": 14,
   "id": "5a83d56e",
   "metadata": {},
   "outputs": [],
   "source": [
    "#Logistic Regression\n",
    "\n",
    "log_grid = {'C': [0.1, 10,100, 1000], 'solver' :[\"liblinear\", \"newton-cg\"], 'penalty':['l1', 'l2', 'elasticnet']}\n",
    "\n",
    "log =  linear_model.LogisticRegression(multi_class='multinomial',random_state=42)\n",
    "log_clf=GridSearchCV(estimator=log, param_grid=log_grid, cv = inner_cv, scoring = 'accuracy')\n",
    "\n",
    "#Nested CV with parameter opitimization\n",
    "log_score=cross_val_score(log_clf,X=X,y=Y, cv=outer_cv)\n",
    "accuracy_scores['logistic']=log_score.mean()"
   ]
  },
  {
   "cell_type": "code",
   "execution_count": 15,
   "id": "17f9c5c8",
   "metadata": {},
   "outputs": [],
   "source": [
    "#KNN\n",
    "knn_grid = {'n_neighbors': list(range(1,10)), 'weights': [\"uniform\", \"distance\"]}\n",
    "\n",
    "knn = neighbors.KNeighborsClassifier()\n",
    "knn_clf=GridSearchCV(estimator=knn, param_grid=knn_grid, cv = inner_cv, scoring = 'accuracy')\n",
    "\n",
    "#Nested CV with parameter opitimization\n",
    "knn_score=cross_val_score(knn_clf,X=X,y=Y, cv=outer_cv)\n",
    "accuracy_scores['knn']=knn_score.mean()"
   ]
  },
  {
   "cell_type": "code",
   "execution_count": 24,
   "id": "c93dbeef",
   "metadata": {},
   "outputs": [],
   "source": [
    "#SVM\n",
    "svm_grid = {'kernel' :['rbf'],'C':[1,10,100]}\n",
    "\n",
    "svm= SVC(random_state = 45,probability = True)\n",
    "svm_clf=GridSearchCV(estimator=svm, param_grid=svm_grid, cv = inner_cv, scoring = 'accuracy')\n",
    "\n",
    "#Nested CV with parameter opitimization\n",
    "svm_score=cross_val_score(svm_clf,X=X,y=Y, cv=outer_cv)\n",
    "accuracy_scores['svm']=svm_score.mean()\n"
   ]
  },
  {
   "cell_type": "code",
   "execution_count": 28,
   "id": "2bdd169a",
   "metadata": {},
   "outputs": [],
   "source": [
    "#Light GBM\n",
    "lgbm_grid = {'max_depth':[-1],'num_leaves':[22, 31],'learning_rate':[0.05,0.1,0.3]}\n",
    "\n",
    "lgbm = LGBMClassifier()\n",
    "lgbm_clf=GridSearchCV(estimator=lgbm, param_grid=lgbm_grid, cv = inner_cv, scoring = 'accuracy')\n",
    "\n",
    "#Nested CV with parameter opitimization\n",
    "lgbm_score=cross_val_score(lgbm_clf,X=X.values,y=Y, cv=outer_cv)\n",
    "accuracy_scores['LGBM']=lgbm_score.mean()"
   ]
  },
  {
   "cell_type": "code",
   "execution_count": 29,
   "id": "e3525dc9",
   "metadata": {},
   "outputs": [
    {
     "data": {
      "text/plain": [
       "{'tree': 0.9213218146627012,\n",
       " 'knn': 0.8230843128924137,\n",
       " 'logistic': 0.9261056035500165,\n",
       " 'svm': 0.8359061511589483,\n",
       " 'LGBM': 0.9582681867535288}"
      ]
     },
     "execution_count": 29,
     "metadata": {},
     "output_type": "execute_result"
    }
   ],
   "source": [
    "accuracy_scores"
   ]
  },
  {
   "cell_type": "markdown",
   "id": "07df144e",
   "metadata": {},
   "source": [
    "By comparing the accuracy among the five models, decision tree (0.9221),KNN (0.823), logistic regression (0.926), SVM (0.836) and light GBM (0.958), I found out the best model is light GBM. Therefore, I split the data into train and test, trained the model with train data, performed hyperparameter tuning for light GBM, then predicted spam or not with test data."
   ]
  },
  {
   "cell_type": "markdown",
   "id": "23545a2d",
   "metadata": {},
   "source": [
    "# Train Test Split"
   ]
  },
  {
   "cell_type": "code",
   "execution_count": 30,
   "id": "0f257f62",
   "metadata": {},
   "outputs": [],
   "source": [
    "X_train, X_test, y_train, y_test = train_test_split(X, Y,\n",
    "                                    test_size=0.2,\n",
    "                                    random_state=41)"
   ]
  },
  {
   "cell_type": "markdown",
   "id": "fde3ccbc",
   "metadata": {},
   "source": [
    "# Light GBM"
   ]
  },
  {
   "cell_type": "code",
   "execution_count": 34,
   "id": "552049b9",
   "metadata": {},
   "outputs": [
    {
     "data": {
      "text/plain": [
       "GridSearchCV(cv=5, estimator=LGBMClassifier(),\n",
       "             param_grid={'learning_rate': [0.05, 0.1, 0.3],\n",
       "                         'max_depth': [30, 40, 50, 60, 70],\n",
       "                         'num_leaves': [30, 40, 50, 60, 70]},\n",
       "             scoring='accuracy')"
      ]
     },
     "execution_count": 34,
     "metadata": {},
     "output_type": "execute_result"
    }
   ],
   "source": [
    "params = {\"learning_rate\": [0.05,0.1,0.3] , \"num_leaves\": [30, 40,50,60,70], \"max_depth\": [30, 40,50,60,70]}\n",
    "\n",
    "lgbm = LGBMClassifier()\n",
    "lgbm_clf=GridSearchCV(estimator=lgbm, param_grid=params, cv = 5, scoring = 'accuracy')\n",
    "\n",
    "lgbm_clf.fit(X_train.values, y_train)"
   ]
  },
  {
   "cell_type": "code",
   "execution_count": 38,
   "id": "14a9ab42",
   "metadata": {},
   "outputs": [
    {
     "name": "stdout",
     "output_type": "stream",
     "text": [
      "Best cross validation score = 0.957608695652174\n",
      "Best hyperparameter = {'learning_rate': 0.3, 'max_depth': 30, 'num_leaves': 30}\n",
      "LGBMClassifier(learning_rate=0.3, max_depth=30, num_leaves=30)\n",
      "Prediction Accuracy:  0.9652551574375678\n",
      "              precision    recall  f1-score   support\n",
      "\n",
      "           0       0.98      0.96      0.97       538\n",
      "           1       0.95      0.97      0.96       383\n",
      "\n",
      "    accuracy                           0.97       921\n",
      "   macro avg       0.96      0.97      0.96       921\n",
      "weighted avg       0.97      0.97      0.97       921\n",
      "\n"
     ]
    },
    {
     "data": {
      "image/png": "[encoded data removed]",
      "text/plain": [
       "<Figure size 432x288 with 1 Axes>"
      ]
     },
     "metadata": {
      "needs_background": "light"
     },
     "output_type": "display_data"
    },
    {
     "data": {
      "image/png": "[encoded data removed]",
      "text/plain": [
       "<Figure size 432x288 with 1 Axes>"
      ]
     },
     "metadata": {
      "needs_background": "light"
     },
     "output_type": "display_data"
    }
   ],
   "source": [
    "print (\"Best cross validation score =\",lgbm_clf.best_score_)\n",
    "print (\"Best hyperparameter =\",lgbm_clf.best_params_)\n",
    "print (lgbm_clf.best_estimator_)\n",
    "\n",
    "#Accuracy\n",
    "print(\"Prediction Accuracy: \",accuracy_score(y_test, lgbm_clf.predict(X_test)))\n",
    "\n",
    "# Classification report\n",
    "print(classification_report(y_test,lgbm_clf.predict(X_test)))\n",
    "\n",
    "#ROC\n",
    "predicted_probas_grid_log = lgbm_clf.predict_proba(X_test)\n",
    "skplt.metrics.plot_roc(y_test, predicted_probas_grid_log)\n",
    "\n",
    "#Lift\n",
    "skplt.metrics.plot_lift_curve(y_test, predicted_probas_grid_log)\n",
    "plt.show()"
   ]
  },
  {
   "cell_type": "markdown",
   "id": "ae3b3025",
   "metadata": {},
   "source": [
    "It turned out that the best hyperparameter is when learning_rate= 0.3, max_depth=30 and num_leaves =30. The model accuracy on testing data is 0.965.\n",
    "\n",
    "In addition, I also drew the ROC curve and lift curve as below. For the ROC curve, classifiers that give curves closer to the top-left corner indicate a better performance. Therefore, the ROC performs well in my model. On the other hand, the lift curve shows that the model performance is better than by chance. For 10% of email, using no model we should get 10% labeled ' not spam' and using the given model we should get around 17% labeled ' not spam'. For 10% of email, using no model we should get 10% labeled 'spam' and using the given model we should get around 24% labeled 'spam'."
   ]
  },
  {
   "cell_type": "markdown",
   "id": "19c8a873",
   "metadata": {},
   "source": [
    "# Considering Cost"
   ]
  },
  {
   "attachments": {},
   "cell_type": "markdown",
   "id": "b84a829b",
   "metadata": {},
   "source": [
    "The cost ratio for different misclassification errors is 10:1, which is the ratio pf false positive: false negative. \n",
    "\n",
    "False positive means labeling non-spam mails as spams. The cost of this misclassification is very high and undesirable. "
   ]
  },
  {
   "cell_type": "code",
   "execution_count": 40,
   "id": "3243eb06",
   "metadata": {},
   "outputs": [],
   "source": [
    "#I defined a function to calculate cost\n",
    "\n",
    "def cost_func(y_true, y_pred):\n",
    "    cm = confusion_matrix(y_true, y_pred)\n",
    "    costs = cm[0][1] * 10 + cm[1][0] * 1\n",
    "    return costs\n",
    "\n",
    "cost_metric = make_scorer(cost_func, greater_is_better= False)"
   ]
  },
  {
   "cell_type": "code",
   "execution_count": 41,
   "id": "b64a1323",
   "metadata": {},
   "outputs": [],
   "source": [
    "cost_scores = {'tree':{},'knn':{},'logistic':{},'svm':{},'LGBM':{}}"
   ]
  },
  {
   "cell_type": "code",
   "execution_count": 45,
   "id": "465e8711",
   "metadata": {},
   "outputs": [],
   "source": [
    "#Decision Tree\n",
    "tree_grid = {'max_depth':list(range(2,10)), 'criterion': [\"entropy\", \"gini\"], 'min_samples_split':list(range(2,10))}\n",
    "\n",
    "tree = tree.DecisionTreeClassifier(random_state=42)\n",
    "tree_clf=GridSearchCV(estimator=tree, param_grid=tree_grid, cv = inner_cv, scoring = cost_metric)\n",
    "\n",
    "#Nested CV with parameter opitimization\n",
    "tree_score=cross_val_score(tree_clf,X=X,y=Y, cv=outer_cv)\n",
    "cost_scores['tree']=tree_score.mean()"
   ]
  },
  {
   "cell_type": "code",
   "execution_count": 47,
   "id": "ff2cfb1c",
   "metadata": {},
   "outputs": [],
   "source": [
    "#Logistic Regression\n",
    "\n",
    "log_grid = {'C': [0.1, 10,100, 1000], 'solver' :[\"liblinear\", \"newton-cg\"], 'penalty':['l1', 'l2', 'elasticnet']}\n",
    "\n",
    "log =  linear_model.LogisticRegression(multi_class='multinomial',random_state=42)\n",
    "log_clf=GridSearchCV(estimator=log, param_grid=log_grid, cv = inner_cv, scoring = cost_metric)\n",
    "\n",
    "#Nested CV with parameter opitimization\n",
    "log_score=cross_val_score(log_clf,X=X,y=Y, cv=outer_cv)\n",
    "cost_scores['logistic']=log_score.mean()"
   ]
  },
  {
   "cell_type": "code",
   "execution_count": 48,
   "id": "f48aebc6",
   "metadata": {},
   "outputs": [],
   "source": [
    "#KNN\n",
    "knn_grid = {'n_neighbors': list(range(1,10)), 'weights': [\"uniform\", \"distance\"]}\n",
    "\n",
    "knn = neighbors.KNeighborsClassifier()\n",
    "knn_clf=GridSearchCV(estimator=knn, param_grid=knn_grid, cv = inner_cv, scoring = cost_metric)\n",
    "\n",
    "#Nested CV with parameter opitimization\n",
    "knn_score=cross_val_score(knn_clf,X=X,y=Y, cv=outer_cv)\n",
    "cost_scores['knn']=knn_score.mean()"
   ]
  },
  {
   "cell_type": "code",
   "execution_count": 49,
   "id": "0fffbbd1",
   "metadata": {},
   "outputs": [],
   "source": [
    "#SVM\n",
    "svm_grid = {'kernel' :['rbf'],'C':[1,10,100]}\n",
    "\n",
    "svm= SVC(random_state = 45,probability = True)\n",
    "svm_clf=GridSearchCV(estimator=svm, param_grid=svm_grid, cv = inner_cv, scoring = cost_metric)\n",
    "\n",
    "#Nested CV with parameter opitimization\n",
    "svm_score=cross_val_score(svm_clf,X=X,y=Y, cv=outer_cv)\n",
    "cost_scores['svm']=svm_score.mean()\n"
   ]
  },
  {
   "cell_type": "code",
   "execution_count": 50,
   "id": "6b8cc425",
   "metadata": {},
   "outputs": [],
   "source": [
    "#Light GBM\n",
    "lgbm_grid = {'max_depth':[-1],'num_leaves':[22, 31],'learning_rate':[0.05,0.1,0.3]}\n",
    "\n",
    "lgbm = LGBMClassifier()\n",
    "lgbm_clf=GridSearchCV(estimator=lgbm, param_grid=lgbm_grid, cv = inner_cv, scoring = cost_metric)\n",
    "\n",
    "#Nested CV with parameter opitimization\n",
    "lgbm_score=cross_val_score(lgbm_clf,X=X.values,y=Y, cv=outer_cv)\n",
    "cost_scores['LGBM']=lgbm_score.mean()"
   ]
  },
  {
   "cell_type": "code",
   "execution_count": 51,
   "id": "de311e5c",
   "metadata": {},
   "outputs": [
    {
     "data": {
      "text/plain": [
       "{'tree': -351.8,\n",
       " 'knn': -584.0,\n",
       " 'logistic': -325.4,\n",
       " 'svm': -649.6,\n",
       " 'LGBM': -230.8}"
      ]
     },
     "execution_count": 51,
     "metadata": {},
     "output_type": "execute_result"
    }
   ],
   "source": [
    "cost_scores"
   ]
  },
  {
   "cell_type": "markdown",
   "id": "410f3652",
   "metadata": {},
   "source": [
    "By comparing the cost metric among the five models, decision tree (351.8),KNN (584), logistic regression (325.4), SVM (649.6) and light GBM (230.8), I found out the best model is light GBM. Therefore, I split the data into train and test, trained the model with train data, performed hyperparameter tuning for light GBM, then predicted spam or not with test data."
   ]
  },
  {
   "cell_type": "markdown",
   "id": "75178b74",
   "metadata": {},
   "source": [
    "# Light GBM"
   ]
  },
  {
   "cell_type": "code",
   "execution_count": 52,
   "id": "f546d040",
   "metadata": {},
   "outputs": [
    {
     "data": {
      "text/plain": [
       "GridSearchCV(cv=5, estimator=LGBMClassifier(),\n",
       "             param_grid={'learning_rate': [0.05, 0.1, 0.3],\n",
       "                         'max_depth': [30, 40, 50, 60, 70],\n",
       "                         'num_leaves': [30, 40, 50, 60, 70]},\n",
       "             scoring=make_scorer(cost_func, greater_is_better=False))"
      ]
     },
     "execution_count": 52,
     "metadata": {},
     "output_type": "execute_result"
    }
   ],
   "source": [
    "params = {\"learning_rate\": [0.05,0.1,0.3] , \"num_leaves\": [30, 40,50,60,70], \"max_depth\": [30, 40,50,60,70]}\n",
    "\n",
    "lgbm = LGBMClassifier()\n",
    "lgbm_clf=GridSearchCV(estimator=lgbm, param_grid=params, cv = 5, scoring = cost_metric)\n",
    "\n",
    "lgbm_clf.fit(X_train.values, y_train)"
   ]
  },
  {
   "cell_type": "code",
   "execution_count": 57,
   "id": "81f9184a",
   "metadata": {},
   "outputs": [
    {
     "name": "stdout",
     "output_type": "stream",
     "text": [
      "Best cross validation score = -166.6\n",
      "Best hyperparameter = {'learning_rate': 0.3, 'max_depth': 30, 'num_leaves': 40}\n",
      "LGBMClassifier(learning_rate=0.3, max_depth=30, num_leaves=40)\n",
      "\n",
      "The cost for the model is 172\n",
      "              precision    recall  f1-score   support\n",
      "\n",
      "           0       0.98      0.97      0.97       538\n",
      "           1       0.96      0.97      0.96       383\n",
      "\n",
      "    accuracy                           0.97       921\n",
      "   macro avg       0.97      0.97      0.97       921\n",
      "weighted avg       0.97      0.97      0.97       921\n",
      "\n"
     ]
    },
    {
     "data": {
      "image/png": "[encoded data removed]",
      "text/plain": [
       "<Figure size 432x288 with 1 Axes>"
      ]
     },
     "metadata": {
      "needs_background": "light"
     },
     "output_type": "display_data"
    },
    {
     "data": {
      "image/png": "[encoded data removed]",
      "text/plain": [
       "<Figure size 432x288 with 1 Axes>"
      ]
     },
     "metadata": {
      "needs_background": "light"
     },
     "output_type": "display_data"
    }
   ],
   "source": [
    "print (\"Best cross validation score =\",lgbm_clf.best_score_)\n",
    "print (\"Best hyperparameter =\",lgbm_clf.best_params_)\n",
    "print (lgbm_clf.best_estimator_)\n",
    "\n",
    "#Cost\n",
    "\n",
    "cm = confusion_matrix(y_test,lgbm_clf.predict(X_test))\n",
    "cost_gbr = cm[0][1]*10 + cm[1][0]*1\n",
    "print()\n",
    "print('The cost for the model is %d' %cost_gbr)\n",
    "\n",
    "# Classification report\n",
    "print(classification_report(y_test,lgbm_clf.predict(X_test)))\n",
    "\n",
    "\n",
    "#ROC\n",
    "predicted_probas_grid_log = lgbm_clf.predict_proba(X_test)\n",
    "skplt.metrics.plot_roc(y_test, predicted_probas_grid_log)\n",
    "\n",
    "#Lift\n",
    "skplt.metrics.plot_lift_curve(y_test, predicted_probas_grid_log)\n",
    "plt.show()"
   ]
  },
  {
   "cell_type": "code",
   "execution_count": 67,
   "id": "8139247a",
   "metadata": {},
   "outputs": [
    {
     "name": "stdout",
     "output_type": "stream",
     "text": [
      "The average misclassification cost for the model is 0.19\n"
     ]
    }
   ],
   "source": [
    "#Misclassification Cost\n",
    "\n",
    "mis= cost_gbr/(cm.sum())\n",
    "\n",
    "print('The average misclassification cost for the model is', round(mis,2))"
   ]
  },
  {
   "cell_type": "markdown",
   "id": "86ad24d6",
   "metadata": {},
   "source": [
    "It turned out that the best hyperparameter is when learning_rate= 0.3, max_depth=30 and num_leaves =40. The cost metric on testing data is 172.\n",
    "\n",
    "The average misclassification cost is 0.19.\n",
    "\n",
    "In addition, I also drew the ROC curve and lift curve as below. For the ROC curve, classifiers that give curves closer to the top-left corner indicate a better performance. Therefore, the ROC performs well in my model. On the other hand, the lift curve shows that the model performance is better than by chance. For 10% of email, using no model we should get 10% labeled ' not spam' and using the given model we should get around 17% labeled ' not spam'. For 10% of email, using no model we should get 10% labeled 'spam' and using the given model we should get around 24% labeled 'spam'."
   ]
  },
  {
   "cell_type": "markdown",
   "id": "8cc1afcb",
   "metadata": {},
   "source": [
    "## Conclusion"
   ]
  },
  {
   "cell_type": "markdown",
   "id": "41cc7486",
   "metadata": {},
   "source": [
    "In both scenerios on evaluating accuracy and cost-effective, the best model is light GBM. However, the hyper-parameters of the two models are slightly different since the performance metric are not the same. "
   ]
  }
 ],
 "metadata": {
  "kernelspec": {
   "display_name": "Python 3",
   "language": "python",
   "name": "python3"
  },
  "language_info": {
   "codemirror_mode": {
    "name": "ipython",
    "version": 3
   },
   "file_extension": ".py",
   "mimetype": "text/x-python",
   "name": "python",
   "nbconvert_exporter": "python",
   "pygments_lexer": "ipython3",
   "version": "3.8.8"
  }
 },
 "nbformat": 4,
 "nbformat_minor": 5
}
